{
  "cells": [
    {
      "cell_type": "code",
      "execution_count": null,
      "metadata": {
        "colab": {
          "base_uri": "https://localhost:8080/",
          "height": 1000
        },
        "id": "ejlGp-I-7fJw",
        "outputId": "c55d23d7-ab84-478c-e633-6e6fcb0a5ff8"
      },
      "outputs": [],
      "source": [
        "!pip install ultralytics\n",
        "!pip install roboflow"
      ]
    },
    {
      "cell_type": "code",
      "execution_count": null,
      "metadata": {
        "id": "FDBuTp9391aR"
      },
      "outputs": [],
      "source": [
        "model = YOLO('/content/runs/detect/train/weights/last.pt')  # load a custom model\n",
        "\n",
        "# Validate the model\n",
        "metrics = model.val()"
      ]
    },
    {
      "cell_type": "code",
      "execution_count": null,
      "metadata": {
        "colab": {
          "base_uri": "https://localhost:8080/"
        },
        "id": "hen_JtZK93og",
        "outputId": "301c5160-88a4-4062-819b-528ce6da4041"
      },
      "outputs": [],
      "source": [
        "rf = Roboflow(api_key=\"Ukwax32ScgN2ZQM5vw7s\")\n",
        "project = rf.workspace(\"custom-yolov5-ksf4y\").project(\"arabic-characters-recognition\")\n",
        "dataset = project.version(14).download(\"yolov8\")"
      ]
    },
    {
      "cell_type": "markdown",
      "metadata": {
        "id": "56ku5UPkLFZ-"
      },
      "source": []
    },
    {
      "cell_type": "code",
      "execution_count": null,
      "metadata": {
        "colab": {
          "base_uri": "https://localhost:8080/"
        },
        "id": "BkTtV4a895yi",
        "outputId": "65a01740-f183-409d-af77-d13c50cb6f6d"
      },
      "outputs": [],
      "source": [
        "model = YOLO('yolov8n.pt')  # load a pretrained model (recommended for training)"
      ]
    },
    {
      "cell_type": "code",
      "execution_count": null,
      "metadata": {
        "colab": {
          "base_uri": "https://localhost:8080/"
        },
        "id": "iwyVbj0S98Sj",
        "outputId": "5f15d114-5292-47ab-caaa-f94c5090d0b2"
      },
      "outputs": [],
      "source": [
        "results = model.train(data='/content/arabic-characters-recognition-14/data.yaml', epochs=40, imgsz=640)"
      ]
    },
    {
      "cell_type": "code",
      "execution_count": null,
      "metadata": {
        "colab": {
          "base_uri": "https://localhost:8080/"
        },
        "id": "CR9cbWAG9-cq",
        "outputId": "74ad564a-be91-4753-8aa5-d525338a7434"
      },
      "outputs": [],
      "source": [
        "model = YOLO('/content/runs/detect/train/weights/best.pt')  # load a custom model\n",
        "\n",
        "# Validate the model\n",
        "metrics = model.val()"
      ]
    },
    {
      "cell_type": "code",
      "execution_count": null,
      "metadata": {
        "colab": {
          "base_uri": "https://localhost:8080/"
        },
        "id": "uOfWHdLb-6Ol",
        "outputId": "de346694-1465-4e83-f5c7-a7fa62eacaf8"
      },
      "outputs": [],
      "source": [
        "model = YOLO('/content/runs/detect/train/weights/last.pt')  # load a custom model\n",
        "\n",
        "# Validate the model\n",
        "metrics = model.val()"
      ]
    },
    {
      "cell_type": "code",
      "execution_count": null,
      "metadata": {
        "id": "cga-ODG1-78i"
      },
      "outputs": [],
      "source": []
    }
  ],
  "metadata": {
    "accelerator": "GPU",
    "colab": {
      "gpuType": "T4",
      "provenance": []
    },
    "kernelspec": {
      "display_name": "Python 3",
      "name": "python3"
    },
    "language_info": {
      "name": "python"
    }
  },
  "nbformat": 4,
  "nbformat_minor": 0
}
